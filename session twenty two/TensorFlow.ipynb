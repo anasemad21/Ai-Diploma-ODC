{
 "cells": [
  {
   "cell_type": "code",
   "execution_count": 1,
   "id": "755fc747",
   "metadata": {
    "ExecuteTime": {
     "end_time": "2022-10-27T13:53:05.414066Z",
     "start_time": "2022-10-27T13:51:14.114479Z"
    }
   },
   "outputs": [
    {
     "name": "stderr",
     "output_type": "stream",
     "text": [
      "C:\\Users\\Anas\\anaconda3\\lib\\site-packages\\scipy\\__init__.py:146: UserWarning: A NumPy version >=1.16.5 and <1.23.0 is required for this version of SciPy (detected version 1.23.4\n",
      "  warnings.warn(f\"A NumPy version >={np_minversion} and <{np_maxversion}\"\n"
     ]
    },
    {
     "name": "stdout",
     "output_type": "stream",
     "text": [
      "2.10.0\n"
     ]
    }
   ],
   "source": [
    "import tensorflow as tf\n",
    "print(tf.__version__)"
   ]
  },
  {
   "cell_type": "code",
   "execution_count": 2,
   "id": "4c35629e",
   "metadata": {
    "ExecuteTime": {
     "end_time": "2022-10-27T14:06:35.509113Z",
     "start_time": "2022-10-27T14:06:28.835232Z"
    }
   },
   "outputs": [
    {
     "name": "stdout",
     "output_type": "stream",
     "text": [
      "Downloading data from https://storage.googleapis.com/tensorflow/tf-keras-datasets/train-labels-idx1-ubyte.gz\n",
      "29515/29515 [==============================] - 0s 3us/step\n",
      "Downloading data from https://storage.googleapis.com/tensorflow/tf-keras-datasets/train-images-idx3-ubyte.gz\n",
      "26421880/26421880 [==============================] - 4s 0us/step\n",
      "Downloading data from https://storage.googleapis.com/tensorflow/tf-keras-datasets/t10k-labels-idx1-ubyte.gz\n",
      "5148/5148 [==============================] - 0s 0s/step\n",
      "Downloading data from https://storage.googleapis.com/tensorflow/tf-keras-datasets/t10k-images-idx3-ubyte.gz\n",
      "4422102/4422102 [==============================] - 1s 0us/step\n"
     ]
    }
   ],
   "source": [
    "import tensorflow as tf\n",
    "from tensorflow import keras\n",
    "\n",
    "(x_train, y_train), (x_val, y_val) = keras.datasets.fashion_mnist.load_data()"
   ]
  },
  {
   "cell_type": "code",
   "execution_count": 3,
   "id": "c155dbf6",
   "metadata": {
    "ExecuteTime": {
     "end_time": "2022-10-27T14:10:11.205821Z",
     "start_time": "2022-10-27T14:10:11.153864Z"
    }
   },
   "outputs": [],
   "source": [
    "def preprocess(x, y):\n",
    "  x = tf.cast(x, tf.float32) / 255.0\n",
    "  y = tf.cast(y, tf.int64)\n",
    "\n",
    "  return x, y\n",
    "\n",
    "def create_dataset(xs, ys, n_classes=10):\n",
    "  ys = tf.one_hot(ys, depth=n_classes)\n",
    "  return tf.data.Dataset.from_tensor_slices((xs, ys)) \\\n",
    "    .map(preprocess) \\\n",
    "    .shuffle(len(ys)) \\\n",
    "    .batch(128)"
   ]
  },
  {
   "cell_type": "code",
   "execution_count": 4,
   "id": "0a1666de",
   "metadata": {
    "ExecuteTime": {
     "end_time": "2022-10-27T14:14:41.875180Z",
     "start_time": "2022-10-27T14:14:36.940604Z"
    }
   },
   "outputs": [],
   "source": [
    "train_dataset = create_dataset(x_train, y_train)\n",
    "val_dataset = create_dataset(x_val, y_val)"
   ]
  },
  {
   "cell_type": "code",
   "execution_count": 5,
   "id": "7f7d4d89",
   "metadata": {
    "ExecuteTime": {
     "end_time": "2022-10-27T14:15:21.488845Z",
     "start_time": "2022-10-27T14:15:20.399591Z"
    }
   },
   "outputs": [],
   "source": [
    "model = keras.Sequential([\n",
    "    keras.layers.Reshape(target_shape=(28 * 28,), input_shape=(28, 28)),\n",
    "    keras.layers.Dense(units=256, activation='relu'),\n",
    "    keras.layers.Dense(units=192, activation='relu'),\n",
    "    keras.layers.Dense(units=128, activation='relu'),\n",
    "    keras.layers.Dense(units=10, activation='softmax')\n",
    "])"
   ]
  },
  {
   "cell_type": "code",
   "execution_count": 6,
   "id": "e89a598a",
   "metadata": {
    "ExecuteTime": {
     "end_time": "2022-10-27T14:18:03.977231Z",
     "start_time": "2022-10-27T14:17:07.485140Z"
    }
   },
   "outputs": [
    {
     "name": "stdout",
     "output_type": "stream",
     "text": [
      "Epoch 1/10\n"
     ]
    },
    {
     "name": "stderr",
     "output_type": "stream",
     "text": [
      "C:\\Users\\Anas\\anaconda3\\lib\\site-packages\\keras\\backend.py:5531: UserWarning: \"`categorical_crossentropy` received `from_logits=True`, but the `output` argument was produced by a Softmax activation and thus does not represent logits. Was this intended?\n",
      "  output, from_logits = _get_logits(\n"
     ]
    },
    {
     "name": "stdout",
     "output_type": "stream",
     "text": [
      "500/500 [==============================] - 12s 12ms/step - loss: 0.5045 - accuracy: 0.8215 - val_loss: 0.3876 - val_accuracy: 0.8516\n",
      "Epoch 2/10\n",
      "500/500 [==============================] - 4s 8ms/step - loss: 0.3551 - accuracy: 0.8694 - val_loss: 0.4093 - val_accuracy: 0.8477\n",
      "Epoch 3/10\n",
      "500/500 [==============================] - 4s 9ms/step - loss: 0.3150 - accuracy: 0.8839 - val_loss: 0.4286 - val_accuracy: 0.8086\n",
      "Epoch 4/10\n",
      "500/500 [==============================] - 5s 10ms/step - loss: 0.2961 - accuracy: 0.8895 - val_loss: 0.3433 - val_accuracy: 0.9062\n",
      "Epoch 5/10\n",
      "500/500 [==============================] - 4s 8ms/step - loss: 0.2782 - accuracy: 0.8968 - val_loss: 0.3075 - val_accuracy: 0.9023\n",
      "Epoch 6/10\n",
      "500/500 [==============================] - 4s 8ms/step - loss: 0.2612 - accuracy: 0.9024 - val_loss: 0.4010 - val_accuracy: 0.8672\n",
      "Epoch 7/10\n",
      "500/500 [==============================] - 5s 9ms/step - loss: 0.2484 - accuracy: 0.9066 - val_loss: 0.4246 - val_accuracy: 0.8438\n",
      "Epoch 8/10\n",
      "500/500 [==============================] - 5s 9ms/step - loss: 0.2392 - accuracy: 0.9085 - val_loss: 0.4856 - val_accuracy: 0.8398\n",
      "Epoch 9/10\n",
      "500/500 [==============================] - 5s 10ms/step - loss: 0.2280 - accuracy: 0.9129 - val_loss: 0.4331 - val_accuracy: 0.8672\n",
      "Epoch 10/10\n",
      "500/500 [==============================] - 6s 12ms/step - loss: 0.2179 - accuracy: 0.9167 - val_loss: 0.2681 - val_accuracy: 0.9062\n"
     ]
    }
   ],
   "source": [
    "model.compile(optimizer='adam', \n",
    "              loss=tf.losses.CategoricalCrossentropy(from_logits=True),\n",
    "              metrics=['accuracy'])\n",
    "\n",
    "history = model.fit(\n",
    "    train_dataset.repeat(), \n",
    "    epochs=10, \n",
    "    steps_per_epoch=500,\n",
    "    validation_data=val_dataset.repeat(), \n",
    "    validation_steps=2\n",
    ")"
   ]
  },
  {
   "cell_type": "code",
   "execution_count": null,
   "id": "cf2bce05",
   "metadata": {},
   "outputs": [],
   "source": []
  }
 ],
 "metadata": {
  "kernelspec": {
   "display_name": "Python 3 (ipykernel)",
   "language": "python",
   "name": "python3"
  },
  "language_info": {
   "codemirror_mode": {
    "name": "ipython",
    "version": 3
   },
   "file_extension": ".py",
   "mimetype": "text/x-python",
   "name": "python",
   "nbconvert_exporter": "python",
   "pygments_lexer": "ipython3",
   "version": "3.9.12"
  }
 },
 "nbformat": 4,
 "nbformat_minor": 5
}
