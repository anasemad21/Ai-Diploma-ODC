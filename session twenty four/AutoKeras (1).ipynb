{
  "cells": [
    {
      "cell_type": "code",
      "execution_count": null,
      "metadata": {
        "id": "7Uyv4EMfzvs5",
        "colab": {
          "base_uri": "https://localhost:8080/"
        },
        "outputId": "ce1b7df9-a9ed-43b9-e9a6-0bd39d815975"
      },
      "outputs": [
        {
          "output_type": "stream",
          "name": "stdout",
          "text": [
            "mkdir: cannot create directory ‘/root/.kaggle’: File exists\n",
            "brain-tumor-classification-mri.zip: Skipping, found more recently modified local copy (use --force to force download)\n"
          ]
        }
      ],
      "source": [
        "! mkdir ~/.kaggle\n",
        "! cp kaggle.json ~/.kaggle/  # upload gson file to colab\n",
        "! chmod 600 ~/.kaggle/kaggle.json\n",
        "! kaggle datasets download sartajbhuvaji/brain-tumor-classification-mri"
      ]
    },
    {
      "cell_type": "code",
      "execution_count": null,
      "metadata": {
        "id": "YCFcnmdhuc30",
        "colab": {
          "base_uri": "https://localhost:8080/"
        },
        "outputId": "dc6be801-9df2-44f1-b575-8a7c2aab54b1"
      },
      "outputs": [
        {
          "output_type": "stream",
          "name": "stdout",
          "text": [
            "Archive:  brain-tumor-classification-mri.zip\n",
            "replace Testing/glioma_tumor/image(1).jpg? [y]es, [n]o, [A]ll, [N]one, [r]ename: N\n"
          ]
        }
      ],
      "source": [
        "! unzip 'brain-tumor-classification-mri.zip'"
      ]
    },
    {
      "cell_type": "code",
      "execution_count": null,
      "metadata": {
        "id": "Xlzj-MeJwDc6"
      },
      "outputs": [],
      "source": [
        "!pip install autokeras\n",
        "import autokeras as ak"
      ]
    },
    {
      "cell_type": "code",
      "source": [],
      "metadata": {
        "id": "rJasTI-Eq-ne"
      },
      "execution_count": null,
      "outputs": []
    },
    {
      "cell_type": "code",
      "execution_count": null,
      "metadata": {
        "colab": {
          "base_uri": "https://localhost:8080/"
        },
        "id": "9TLEQnZ5Isel",
        "outputId": "fab4184f-0724-4ce1-95eb-7f47e906fb13"
      },
      "outputs": [
        {
          "output_type": "stream",
          "name": "stdout",
          "text": [
            "Found 2870 files belonging to 4 classes.\n",
            "Using 2296 files for training.\n",
            "Found 394 files belonging to 4 classes.\n"
          ]
        }
      ],
      "source": [
        "img_height = 224\n",
        "img_width = 224\n",
        "train_dir = '/content/Training'\n",
        "test_dir = '/content/Testing'\n",
        "batch_size = 40\n",
        "\n",
        "train_data = ak.image_dataset_from_directory(\n",
        "    train_dir,\n",
        "    validation_split=0.2,\n",
        "    subset= \"training\",\n",
        "    seed= 123,\n",
        "    image_size= (img_height, img_width),\n",
        "    batch_size= batch_size\n",
        ")\n",
        "\n",
        "test_data = ak.image_dataset_from_directory(\n",
        "    test_dir,\n",
        "    subset= \"testing\",\n",
        "    seed= 123,\n",
        "    image_size= (img_height, img_width),\n",
        "    batch_size= batch_size\n",
        ")"
      ]
    },
    {
      "cell_type": "code",
      "execution_count": null,
      "metadata": {
        "id": "G3fLQ8MaMWg8"
      },
      "outputs": [],
      "source": [
        "input_node = ak.ImageInput()\n",
        "output_node = ak.ClassificationHead()(input_node)\n",
        "\n",
        "clf = ak.AutoModel(inputs= input_node, outputs= output_node, overwrite= False, max_trials= 1, objective= 'val_accuracy')"
      ]
    },
    {
      "cell_type": "code",
      "execution_count": null,
      "metadata": {
        "colab": {
          "base_uri": "https://localhost:8080/"
        },
        "id": "aQQLq7kIM4X8",
        "outputId": "ad047277-533c-439d-d0c8-6a33604ccece"
      },
      "outputs": [
        {
          "output_type": "stream",
          "name": "stdout",
          "text": [
            "The tensorboard extension is already loaded. To reload it, use:\n",
            "  %reload_ext tensorboard\n",
            "Epoch 1/2\n",
            "58/58 [==============================] - 275s 5s/step - loss: 2.2797 - accuracy: 0.7252\n",
            "Epoch 2/2\n",
            "58/58 [==============================] - 261s 4s/step - loss: 0.9282 - accuracy: 0.8567\n"
          ]
        },
        {
          "output_type": "execute_result",
          "data": {
            "text/plain": [
              "<keras.callbacks.History at 0x7f0c1020f2d0>"
            ]
          },
          "metadata": {},
          "execution_count": 8
        }
      ],
      "source": [
        "import datetime\n",
        "import tensorflow as tf\n",
        "%load_ext tensorboard\n",
        "log_dir = \"logs/fit/\" + datetime.datetime.now().strftime(\"%Y%m%d-%H%M%S\")\n",
        "tensorboard_callback = tf.keras.callbacks.TensorBoard(log_dir=log_dir, histogram_freq=1)\n",
        "\n",
        "# train model\n",
        "clf.fit(train_data, epochs= 2, callbacks= [tensorboard_callback])"
      ]
    },
    {
      "cell_type": "code",
      "execution_count": null,
      "metadata": {
        "id": "f5ZCDcyiM6aM",
        "colab": {
          "base_uri": "https://localhost:8080/"
        },
        "outputId": "0b8f3bdd-32ee-47d0-9b1a-d668653bc9f6"
      },
      "outputs": [
        {
          "output_type": "stream",
          "name": "stdout",
          "text": [
            "10/10 [==============================] - 45s 4s/step - loss: 3.1955 - accuracy: 0.6878\n",
            "[3.1954901218414307, 0.6878172755241394]\n"
          ]
        }
      ],
      "source": [
        "print(clf.evaluate(test_data))"
      ]
    },
    {
      "cell_type": "code",
      "source": [
        "%tensorboard --logdir logs/fit"
      ],
      "metadata": {
        "id": "fa1DyGJ2qeh3"
      },
      "execution_count": null,
      "outputs": []
    },
    {
      "cell_type": "code",
      "source": [
        "import os\n",
        "clf.export_model().save(os.path.join('content', \"model.h5\"))"
      ],
      "metadata": {
        "id": "LxD4q8QOnL4S"
      },
      "execution_count": null,
      "outputs": []
    },
    {
      "cell_type": "code",
      "source": [
        "import tensorflow as tf\n",
        "model = tf.keras.models.load_model(\"/content/content/model.h5\")"
      ],
      "metadata": {
        "id": "VlyvAVHqnS7u"
      },
      "execution_count": null,
      "outputs": []
    },
    {
      "cell_type": "code",
      "source": [
        "predicted_y = model.predict(test_data)\n",
        "print(predicted_y)"
      ],
      "metadata": {
        "id": "yzCuQJSdnzal"
      },
      "execution_count": null,
      "outputs": []
    },
    {
      "cell_type": "code",
      "source": [],
      "metadata": {
        "id": "SGvMbo_Gn6kL"
      },
      "execution_count": null,
      "outputs": []
    }
  ],
  "metadata": {
    "accelerator": "TPU",
    "colab": {
      "provenance": [],
      "collapsed_sections": []
    },
    "kernelspec": {
      "display_name": "Python 3",
      "name": "python3"
    },
    "language_info": {
      "name": "python"
    }
  },
  "nbformat": 4,
  "nbformat_minor": 0
}