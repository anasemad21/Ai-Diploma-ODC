{
 "cells": [
  {
   "cell_type": "markdown",
   "id": "b1203c21",
   "metadata": {},
   "source": [
    "# What are types of Data distribution and example to each one?"
   ]
  },
  {
   "cell_type": "markdown",
   "id": "81f61633",
   "metadata": {},
   "source": [
    "https://sixsigmastudyguide.com/data-distributions/\n"
   ]
  },
  {
   "cell_type": "markdown",
   "id": "cb5b4257",
   "metadata": {},
   "source": [
    "# How to convert any distribution to normal distribution ?"
   ]
  },
  {
   "cell_type": "markdown",
   "id": "465ebf55",
   "metadata": {},
   "source": [
    "## By How to convert any distribution to normal distribution \n",
    "the central limit theorem (CLT) states that the distribution of a sample variable approximates a normal distribution (i.e., a “bell curve”) as the sample size becomes larger, assuming that all samples are identical in size, and regardless of the population's actual distribution shape"
   ]
  },
  {
   "cell_type": "markdown",
   "id": "b073ebc0",
   "metadata": {},
   "source": [
    "# Why we convert data distribution to normal distribution?\n"
   ]
  },
  {
   "cell_type": "markdown",
   "id": "afa4265c",
   "metadata": {},
   "source": [
    "Because the specifications we extracted from the sample were not enough to express the entire Populatuin\n",
    "\n",
    "->sample m4 bt3br 3n el population koloh"
   ]
  },
  {
   "cell_type": "markdown",
   "id": "db22b181",
   "metadata": {},
   "source": [
    "# What algorithms of machine learning assume relation nonlinear between data?"
   ]
  },
  {
   "cell_type": "markdown",
   "id": "3e0403e5",
   "metadata": {},
   "source": [
    "1-Svm-nonlinear\n",
    "\n",
    "2-polynomial Regression"
   ]
  },
  {
   "cell_type": "markdown",
   "id": "2fd0303e",
   "metadata": {},
   "source": [
    "# What is the library (with one line) make us use all other libraries (panadas, NumPy,……..)\n"
   ]
  },
  {
   "cell_type": "markdown",
   "id": "6122977c",
   "metadata": {},
   "source": [
    "import pyforest"
   ]
  },
  {
   "cell_type": "markdown",
   "id": "825a2e05",
   "metadata": {},
   "source": [
    "-->>https://github.com/HaneenIbrahim2/Orange-Ai-Diploma/blob/main/Tasks/Task%2011%2C12%2C13.ipynb"
   ]
  },
  {
   "cell_type": "code",
   "execution_count": null,
   "id": "dbe1b046",
   "metadata": {},
   "outputs": [],
   "source": []
  }
 ],
 "metadata": {
  "kernelspec": {
   "display_name": "Python 3 (ipykernel)",
   "language": "python",
   "name": "python3"
  },
  "language_info": {
   "codemirror_mode": {
    "name": "ipython",
    "version": 3
   },
   "file_extension": ".py",
   "mimetype": "text/x-python",
   "name": "python",
   "nbconvert_exporter": "python",
   "pygments_lexer": "ipython3",
   "version": "3.9.12"
  }
 },
 "nbformat": 4,
 "nbformat_minor": 5
}
